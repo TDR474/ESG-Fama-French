{
 "cells": [
  {
   "cell_type": "code",
   "execution_count": 1,
   "metadata": {},
   "outputs": [],
   "source": [
    "# import libraries\n",
    "import pandas as pd\n",
    "import numpy as np\n",
    "import matplotlib.pyplot as plt\n",
    "import seaborn as sns"
   ]
  },
  {
   "cell_type": "code",
   "execution_count": 25,
   "metadata": {},
   "outputs": [],
   "source": [
    "# function to read in the data, and set the second row as the column names and drop the first two rows\n",
    "def read_data(file_name):\n",
    "    df = pd.read_excel(file_name, sheet_name='Peer View')\n",
    "    df.columns = df.iloc[1]\n",
    "    df = df.drop([0,1])\n",
    "    return df"
   ]
  },
  {
   "cell_type": "code",
   "execution_count": 26,
   "metadata": {},
   "outputs": [],
   "source": [
    "df_2017 = read_data('Peer View Table for AAPL.O-3.xlsx')\n",
    "df_2018 = read_data('Peer View Table for AAPL.O-4.xlsx')\n",
    "df_2019 = read_data('Peer View Table for AAPL.O-5.xlsx')\n",
    "df_2020 = read_data('Peer View Table for AAPL.O-6.xlsx')\n",
    "df_2021 = read_data('Peer View Table for AAPL.O-7.xlsx')"
   ]
  },
  {
   "cell_type": "code",
   "execution_count": 27,
   "metadata": {},
   "outputs": [
    {
     "data": {
      "text/html": [
       "<div>\n",
       "<style scoped>\n",
       "    .dataframe tbody tr th:only-of-type {\n",
       "        vertical-align: middle;\n",
       "    }\n",
       "\n",
       "    .dataframe tbody tr th {\n",
       "        vertical-align: top;\n",
       "    }\n",
       "\n",
       "    .dataframe thead th {\n",
       "        text-align: right;\n",
       "    }\n",
       "</style>\n",
       "<table border=\"1\" class=\"dataframe\">\n",
       "  <thead>\n",
       "    <tr style=\"text-align: right;\">\n",
       "      <th>1</th>\n",
       "      <th>Rank</th>\n",
       "      <th>Company Name</th>\n",
       "      <th>HQ</th>\n",
       "      <th>Industry Group</th>\n",
       "      <th>Mkt. Cap (M)</th>\n",
       "      <th>ESG Score</th>\n",
       "    </tr>\n",
       "  </thead>\n",
       "  <tbody>\n",
       "    <tr>\n",
       "      <th>2</th>\n",
       "      <td>811</td>\n",
       "      <td>Apple Inc</td>\n",
       "      <td>US</td>\n",
       "      <td>Computers, Phones &amp; Household Electronics</td>\n",
       "      <td>$2,336,425</td>\n",
       "      <td>68.27</td>\n",
       "    </tr>\n",
       "    <tr>\n",
       "      <th>3</th>\n",
       "      <td>1</td>\n",
       "      <td>BNP Paribas SA</td>\n",
       "      <td>FR</td>\n",
       "      <td>Banking Services</td>\n",
       "      <td>$65,218</td>\n",
       "      <td>94.26</td>\n",
       "    </tr>\n",
       "    <tr>\n",
       "      <th>4</th>\n",
       "      <td>2</td>\n",
       "      <td>AstraZeneca PLC</td>\n",
       "      <td>GB</td>\n",
       "      <td>Pharmaceuticals</td>\n",
       "      <td>$192,349</td>\n",
       "      <td>93.84</td>\n",
       "    </tr>\n",
       "    <tr>\n",
       "      <th>5</th>\n",
       "      <td>3</td>\n",
       "      <td>Stellantis NV</td>\n",
       "      <td>NL</td>\n",
       "      <td>Automobiles &amp; Auto Parts</td>\n",
       "      <td>$46,668</td>\n",
       "      <td>93.79</td>\n",
       "    </tr>\n",
       "    <tr>\n",
       "      <th>6</th>\n",
       "      <td>4</td>\n",
       "      <td>STMicroelectronics NV</td>\n",
       "      <td>CH</td>\n",
       "      <td>Semiconductors &amp; Semiconductor Equipment</td>\n",
       "      <td>$33,377</td>\n",
       "      <td>93.77</td>\n",
       "    </tr>\n",
       "  </tbody>\n",
       "</table>\n",
       "</div>"
      ],
      "text/plain": [
       "1 Rank           Company Name  HQ                             Industry Group  \\\n",
       "2  811              Apple Inc  US  Computers, Phones & Household Electronics   \n",
       "3    1         BNP Paribas SA  FR                           Banking Services   \n",
       "4    2        AstraZeneca PLC  GB                            Pharmaceuticals   \n",
       "5    3          Stellantis NV  NL                   Automobiles & Auto Parts   \n",
       "6    4  STMicroelectronics NV  CH   Semiconductors & Semiconductor Equipment   \n",
       "\n",
       "1 Mkt. Cap (M) ESG Score  \n",
       "2   $2,336,425     68.27  \n",
       "3      $65,218     94.26  \n",
       "4     $192,349     93.84  \n",
       "5      $46,668     93.79  \n",
       "6      $33,377     93.77  "
      ]
     },
     "execution_count": 27,
     "metadata": {},
     "output_type": "execute_result"
    }
   ],
   "source": [
    "df_2017.head()"
   ]
  },
  {
   "cell_type": "code",
   "execution_count": 35,
   "metadata": {},
   "outputs": [],
   "source": [
    "# add a year column to each dataframe\n",
    "df_2017['Year'] = 2017\n",
    "df_2018['Year'] = 2018\n",
    "df_2019['Year'] = 2019\n",
    "df_2020['Year'] = 2020\n",
    "df_2021['Year'] = 2021"
   ]
  },
  {
   "cell_type": "code",
   "execution_count": 38,
   "metadata": {},
   "outputs": [
    {
     "data": {
      "text/html": [
       "<div>\n",
       "<style scoped>\n",
       "    .dataframe tbody tr th:only-of-type {\n",
       "        vertical-align: middle;\n",
       "    }\n",
       "\n",
       "    .dataframe tbody tr th {\n",
       "        vertical-align: top;\n",
       "    }\n",
       "\n",
       "    .dataframe thead th {\n",
       "        text-align: right;\n",
       "    }\n",
       "</style>\n",
       "<table border=\"1\" class=\"dataframe\">\n",
       "  <thead>\n",
       "    <tr style=\"text-align: right;\">\n",
       "      <th>1</th>\n",
       "      <th>Rank</th>\n",
       "      <th>Company Name</th>\n",
       "      <th>HQ</th>\n",
       "      <th>Industry Group</th>\n",
       "      <th>Mkt. Cap (M)</th>\n",
       "      <th>ESG Score</th>\n",
       "      <th>Year</th>\n",
       "    </tr>\n",
       "  </thead>\n",
       "  <tbody>\n",
       "    <tr>\n",
       "      <th>39950</th>\n",
       "      <td>8474</td>\n",
       "      <td>Bank of Greece</td>\n",
       "      <td>GR</td>\n",
       "      <td>Banking Services</td>\n",
       "      <td>$325</td>\n",
       "      <td>2.62</td>\n",
       "      <td>2021</td>\n",
       "    </tr>\n",
       "    <tr>\n",
       "      <th>39951</th>\n",
       "      <td>8475</td>\n",
       "      <td>Round One Corp</td>\n",
       "      <td>JP</td>\n",
       "      <td>Hotels &amp; Entertainment Services</td>\n",
       "      <td>$1,258</td>\n",
       "      <td>2.50</td>\n",
       "      <td>2021</td>\n",
       "    </tr>\n",
       "    <tr>\n",
       "      <th>39952</th>\n",
       "      <td>8476</td>\n",
       "      <td>MACOM Technology Solutions Holdings Inc</td>\n",
       "      <td>US</td>\n",
       "      <td>Semiconductors &amp; Semiconductor Equipment</td>\n",
       "      <td>$4,833</td>\n",
       "      <td>2.26</td>\n",
       "      <td>2021</td>\n",
       "    </tr>\n",
       "    <tr>\n",
       "      <th>39953</th>\n",
       "      <td>8477</td>\n",
       "      <td>Sandpiper Digital Payments AG</td>\n",
       "      <td>CH</td>\n",
       "      <td>Office Equipment</td>\n",
       "      <td>$2</td>\n",
       "      <td>2.23</td>\n",
       "      <td>2021</td>\n",
       "    </tr>\n",
       "    <tr>\n",
       "      <th>39954</th>\n",
       "      <td>8478</td>\n",
       "      <td>Asustek Computer Inc</td>\n",
       "      <td>TW</td>\n",
       "      <td>Computers, Phones &amp; Household Electronics</td>\n",
       "      <td>$5,896</td>\n",
       "      <td>1.35</td>\n",
       "      <td>2021</td>\n",
       "    </tr>\n",
       "  </tbody>\n",
       "</table>\n",
       "</div>"
      ],
      "text/plain": [
       "1      Rank                             Company Name  HQ  \\\n",
       "39950  8474                           Bank of Greece  GR   \n",
       "39951  8475                           Round One Corp  JP   \n",
       "39952  8476  MACOM Technology Solutions Holdings Inc  US   \n",
       "39953  8477            Sandpiper Digital Payments AG  CH   \n",
       "39954  8478                     Asustek Computer Inc  TW   \n",
       "\n",
       "1                                 Industry Group Mkt. Cap (M) ESG Score  Year  \n",
       "39950                           Banking Services         $325      2.62  2021  \n",
       "39951            Hotels & Entertainment Services       $1,258      2.50  2021  \n",
       "39952   Semiconductors & Semiconductor Equipment       $4,833      2.26  2021  \n",
       "39953                           Office Equipment           $2      2.23  2021  \n",
       "39954  Computers, Phones & Household Electronics       $5,896      1.35  2021  "
      ]
     },
     "execution_count": 38,
     "metadata": {},
     "output_type": "execute_result"
    }
   ],
   "source": [
    "# merge the dataframes into one\n",
    "df = pd.concat([df_2017, df_2018, df_2019, df_2020, df_2021], ignore_index=True)\n",
    "df.tail()"
   ]
  },
  {
   "cell_type": "code",
   "execution_count": 48,
   "metadata": {},
   "outputs": [
    {
     "name": "stderr",
     "output_type": "stream",
     "text": [
      "/var/folders/7f/zzvg3mdj425g3y3pzll4q80h0000gn/T/ipykernel_94968/1885840444.py:2: FutureWarning: The default value of regex will change from True to False in a future version. In addition, single character regular expressions will *not* be treated as literal strings when regex=True.\n",
      "  df['Mkt. Cap (M)'] = df['Mkt. Cap (M)'].str.replace('$', '')\n"
     ]
    }
   ],
   "source": [
    "# get rid of the dollar sign in Mkt. Cap (M) column\n",
    "df['Mkt. Cap (M)'] = df['Mkt. Cap (M)'].str.replace('$', '')\n",
    "# also get rid of the comma in the same column\n",
    "df['Mkt. Cap (M)'] = df['Mkt. Cap (M)'].str.replace(',', '')\n",
    "# get the average Market Cap for each company throughout the years, that's getting Mkt. Cap (M) column \n",
    "df_avg = df.groupby('Company Name')['Mkt. Cap (M)'].mean().reset_index()\n",
    "\n"
   ]
  },
  {
   "cell_type": "code",
   "execution_count": 50,
   "metadata": {},
   "outputs": [
    {
     "name": "stdout",
     "output_type": "stream",
     "text": [
      "Number of companies with a market cap above the median:  5356\n",
      "Number of companies with a market cap below the median:  5355\n"
     ]
    }
   ],
   "source": [
    "# rank the companies and find the medium\n",
    "# split the data into two groups, one with the companies that have a market cap above the median, and one with the companies that have a market cap below the median\n",
    "df_avg['Rank'] = df_avg['Mkt. Cap (M)'].rank(ascending=False)\n",
    "df_avg_low = df_avg[df_avg['Rank'] > df_avg['Rank'].median()]\n",
    "df_avg_high = df_avg[df_avg['Rank'] <= df_avg['Rank'].median()]\n",
    "\n",
    "# count the number of companies in each group\n",
    "print('Number of companies with a market cap above the median: ', len(df_avg_high))\n",
    "print('Number of companies with a market cap below the median: ', len(df_avg_low))\n"
   ]
  }
 ],
 "metadata": {
  "kernelspec": {
   "display_name": "Python 3.9.7 ('base')",
   "language": "python",
   "name": "python3"
  },
  "language_info": {
   "codemirror_mode": {
    "name": "ipython",
    "version": 3
   },
   "file_extension": ".py",
   "mimetype": "text/x-python",
   "name": "python",
   "nbconvert_exporter": "python",
   "pygments_lexer": "ipython3",
   "version": "3.9.7"
  },
  "orig_nbformat": 4,
  "vscode": {
   "interpreter": {
    "hash": "5fc46f4ca4c3e783c5efc93cd0a8383c2a91a68aeca57a29503310e8224dc9de"
   }
  }
 },
 "nbformat": 4,
 "nbformat_minor": 2
}
