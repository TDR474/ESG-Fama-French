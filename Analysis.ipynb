{
 "cells": [
  {
   "cell_type": "code",
   "execution_count": 1,
   "metadata": {},
   "outputs": [],
   "source": [
    "# import libraries\n",
    "import pandas as pd\n",
    "import numpy as np\n",
    "import matplotlib.pyplot as plt\n",
    "import seaborn as sns"
   ]
  },
  {
   "cell_type": "code",
   "execution_count": 247,
   "metadata": {},
   "outputs": [],
   "source": [
    "# May take a few seconds to run since the dataset is large\n",
    "df = pd.read_excel('stock_data_super_large.xlsx')"
   ]
  },
  {
   "cell_type": "code",
   "execution_count": 249,
   "metadata": {},
   "outputs": [
    {
     "data": {
      "text/html": [
       "<div>\n",
       "<style scoped>\n",
       "    .dataframe tbody tr th:only-of-type {\n",
       "        vertical-align: middle;\n",
       "    }\n",
       "\n",
       "    .dataframe tbody tr th {\n",
       "        vertical-align: top;\n",
       "    }\n",
       "\n",
       "    .dataframe thead th {\n",
       "        text-align: right;\n",
       "    }\n",
       "</style>\n",
       "<table border=\"1\" class=\"dataframe\">\n",
       "  <thead>\n",
       "    <tr style=\"text-align: right;\">\n",
       "      <th></th>\n",
       "      <th>Identifier (RIC)</th>\n",
       "      <th>Company Name</th>\n",
       "      <th>Industry</th>\n",
       "      <th>ESG_FY0</th>\n",
       "      <th>ESG_FY1</th>\n",
       "      <th>ESG_FY2</th>\n",
       "      <th>ESG_FY3</th>\n",
       "      <th>ESG_FY4</th>\n",
       "      <th>ESG_FY5</th>\n",
       "      <th>ESG_FY6</th>\n",
       "      <th>...</th>\n",
       "      <th>MCAP_FQ22</th>\n",
       "      <th>MCAP_FQ23</th>\n",
       "      <th>MCAP_FQ24</th>\n",
       "      <th>MCAP_FQ25</th>\n",
       "      <th>MCAP_FQ26</th>\n",
       "      <th>MCAP_FQ27</th>\n",
       "      <th>MCAP_FQ28</th>\n",
       "      <th>MCAP_FQ29</th>\n",
       "      <th>MCAP_FQ30</th>\n",
       "      <th>MCAP_FQ31</th>\n",
       "    </tr>\n",
       "  </thead>\n",
       "  <tbody>\n",
       "    <tr>\n",
       "      <th>0</th>\n",
       "      <td>B</td>\n",
       "      <td>Barnes Group Inc</td>\n",
       "      <td>Machinery</td>\n",
       "      <td>47.280059</td>\n",
       "      <td>39.716448</td>\n",
       "      <td>39.364964</td>\n",
       "      <td>33.635145</td>\n",
       "      <td>24.153344</td>\n",
       "      <td>25.935442</td>\n",
       "      <td>18.761357</td>\n",
       "      <td>...</td>\n",
       "      <td>2.758021e+09</td>\n",
       "      <td>2.551881e+09</td>\n",
       "      <td>2.183471e+09</td>\n",
       "      <td>1.778151e+09</td>\n",
       "      <td>1.880405e+09</td>\n",
       "      <td>1.942959e+09</td>\n",
       "      <td>1.971735e+09</td>\n",
       "      <td>2.136121e+09</td>\n",
       "      <td>2.218038e+09</td>\n",
       "      <td>2.015078e+09</td>\n",
       "    </tr>\n",
       "    <tr>\n",
       "      <th>1</th>\n",
       "      <td>ITT.N</td>\n",
       "      <td>ITT Inc</td>\n",
       "      <td>Machinery</td>\n",
       "      <td>78.612516</td>\n",
       "      <td>70.722850</td>\n",
       "      <td>68.409017</td>\n",
       "      <td>59.747878</td>\n",
       "      <td>58.301170</td>\n",
       "      <td>54.710253</td>\n",
       "      <td>58.075415</td>\n",
       "      <td>...</td>\n",
       "      <td>3.637016e+09</td>\n",
       "      <td>3.401874e+09</td>\n",
       "      <td>3.211264e+09</td>\n",
       "      <td>2.881398e+09</td>\n",
       "      <td>3.313802e+09</td>\n",
       "      <td>3.250640e+09</td>\n",
       "      <td>2.988642e+09</td>\n",
       "      <td>3.732128e+09</td>\n",
       "      <td>3.607767e+09</td>\n",
       "      <td>3.706136e+09</td>\n",
       "    </tr>\n",
       "    <tr>\n",
       "      <th>2</th>\n",
       "      <td>GTLS.N</td>\n",
       "      <td>Chart Industries Inc</td>\n",
       "      <td>Machinery</td>\n",
       "      <td>56.790911</td>\n",
       "      <td>43.968150</td>\n",
       "      <td>41.893694</td>\n",
       "      <td>16.687256</td>\n",
       "      <td>21.707709</td>\n",
       "      <td>24.478215</td>\n",
       "      <td>NaN</td>\n",
       "      <td>...</td>\n",
       "      <td>1.073148e+09</td>\n",
       "      <td>1.102080e+09</td>\n",
       "      <td>1.004369e+09</td>\n",
       "      <td>7.381859e+08</td>\n",
       "      <td>6.643657e+08</td>\n",
       "      <td>5.485793e+08</td>\n",
       "      <td>5.867633e+08</td>\n",
       "      <td>1.091904e+09</td>\n",
       "      <td>1.071162e+09</td>\n",
       "      <td>1.042462e+09</td>\n",
       "    </tr>\n",
       "    <tr>\n",
       "      <th>3</th>\n",
       "      <td>PKOH.OQ</td>\n",
       "      <td>Park Ohio Holdings Corp</td>\n",
       "      <td>Machinery</td>\n",
       "      <td>11.351879</td>\n",
       "      <td>12.015005</td>\n",
       "      <td>12.092304</td>\n",
       "      <td>12.603972</td>\n",
       "      <td>12.932632</td>\n",
       "      <td>2.580297</td>\n",
       "      <td>NaN</td>\n",
       "      <td>...</td>\n",
       "      <td>4.514671e+08</td>\n",
       "      <td>5.277162e+08</td>\n",
       "      <td>4.575630e+08</td>\n",
       "      <td>3.473865e+08</td>\n",
       "      <td>5.381970e+08</td>\n",
       "      <td>4.654001e+08</td>\n",
       "      <td>3.641802e+08</td>\n",
       "      <td>6.055063e+08</td>\n",
       "      <td>6.581418e+08</td>\n",
       "      <td>7.885708e+08</td>\n",
       "    </tr>\n",
       "    <tr>\n",
       "      <th>4</th>\n",
       "      <td>ZWS.N</td>\n",
       "      <td>Zurn Elkay Water Solutions Corp</td>\n",
       "      <td>Building Products</td>\n",
       "      <td>61.015179</td>\n",
       "      <td>59.600678</td>\n",
       "      <td>42.460351</td>\n",
       "      <td>22.930730</td>\n",
       "      <td>21.765882</td>\n",
       "      <td>22.323763</td>\n",
       "      <td>NaN</td>\n",
       "      <td>...</td>\n",
       "      <td>2.371729e+09</td>\n",
       "      <td>2.013093e+09</td>\n",
       "      <td>2.199966e+09</td>\n",
       "      <td>1.996711e+09</td>\n",
       "      <td>2.049765e+09</td>\n",
       "      <td>1.818622e+09</td>\n",
       "      <td>1.703909e+09</td>\n",
       "      <td>2.434572e+09</td>\n",
       "      <td>2.714624e+09</td>\n",
       "      <td>2.868755e+09</td>\n",
       "    </tr>\n",
       "  </tbody>\n",
       "</table>\n",
       "<p>5 rows × 215 columns</p>\n",
       "</div>"
      ],
      "text/plain": [
       "  Identifier (RIC)                     Company Name           Industry  \\\n",
       "0                B                 Barnes Group Inc          Machinery   \n",
       "1            ITT.N                          ITT Inc          Machinery   \n",
       "2           GTLS.N             Chart Industries Inc          Machinery   \n",
       "3          PKOH.OQ          Park Ohio Holdings Corp          Machinery   \n",
       "4            ZWS.N  Zurn Elkay Water Solutions Corp  Building Products   \n",
       "\n",
       "     ESG_FY0    ESG_FY1    ESG_FY2    ESG_FY3    ESG_FY4    ESG_FY5  \\\n",
       "0  47.280059  39.716448  39.364964  33.635145  24.153344  25.935442   \n",
       "1  78.612516  70.722850  68.409017  59.747878  58.301170  54.710253   \n",
       "2  56.790911  43.968150  41.893694  16.687256  21.707709  24.478215   \n",
       "3  11.351879  12.015005  12.092304  12.603972  12.932632   2.580297   \n",
       "4  61.015179  59.600678  42.460351  22.930730  21.765882  22.323763   \n",
       "\n",
       "     ESG_FY6  ...     MCAP_FQ22     MCAP_FQ23     MCAP_FQ24     MCAP_FQ25  \\\n",
       "0  18.761357  ...  2.758021e+09  2.551881e+09  2.183471e+09  1.778151e+09   \n",
       "1  58.075415  ...  3.637016e+09  3.401874e+09  3.211264e+09  2.881398e+09   \n",
       "2        NaN  ...  1.073148e+09  1.102080e+09  1.004369e+09  7.381859e+08   \n",
       "3        NaN  ...  4.514671e+08  5.277162e+08  4.575630e+08  3.473865e+08   \n",
       "4        NaN  ...  2.371729e+09  2.013093e+09  2.199966e+09  1.996711e+09   \n",
       "\n",
       "      MCAP_FQ26     MCAP_FQ27     MCAP_FQ28     MCAP_FQ29     MCAP_FQ30  \\\n",
       "0  1.880405e+09  1.942959e+09  1.971735e+09  2.136121e+09  2.218038e+09   \n",
       "1  3.313802e+09  3.250640e+09  2.988642e+09  3.732128e+09  3.607767e+09   \n",
       "2  6.643657e+08  5.485793e+08  5.867633e+08  1.091904e+09  1.071162e+09   \n",
       "3  5.381970e+08  4.654001e+08  3.641802e+08  6.055063e+08  6.581418e+08   \n",
       "4  2.049765e+09  1.818622e+09  1.703909e+09  2.434572e+09  2.714624e+09   \n",
       "\n",
       "      MCAP_FQ31  \n",
       "0  2.015078e+09  \n",
       "1  3.706136e+09  \n",
       "2  1.042462e+09  \n",
       "3  7.885708e+08  \n",
       "4  2.868755e+09  \n",
       "\n",
       "[5 rows x 215 columns]"
      ]
     },
     "execution_count": 249,
     "metadata": {},
     "output_type": "execute_result"
    }
   ],
   "source": [
    "# We have around 4000 companies in the dataset, 188 columns \n",
    "df.head()"
   ]
  },
  {
   "cell_type": "code",
   "execution_count": 222,
   "metadata": {},
   "outputs": [],
   "source": [
    "# fiscal year 7 has the least number of ESG observations\n",
    "#df.loc[:,'ESG_FY0':'ESG_FY7'].count(axis=0)\n",
    "# drop ESG_FY7 to have more non-NA data\n",
    "#df.drop('ESG_FY7', axis=1, inplace=True)\n",
    "# if we drop FY7, then we can 18 more observations (417 vs ~300) after dropping NaNs\n",
    "#df_drop = df.dropna(inplace=True)"
   ]
  },
  {
   "cell_type": "code",
   "execution_count": 232,
   "metadata": {},
   "outputs": [
    {
     "data": {
      "text/plain": [
       "Identifier (RIC)    4243\n",
       "Company Name        4243\n",
       "Industry            4243\n",
       "ESG_FY0             1926\n",
       "ESG_FY1             1837\n",
       "                    ... \n",
       "MCAP_FY3            1669\n",
       "MCAP_FY4            1636\n",
       "MCAP_FY5            1590\n",
       "MCAP_FY6            1561\n",
       "MCAP_FY7            1531\n",
       "Length: 188, dtype: int64"
      ]
     },
     "execution_count": 232,
     "metadata": {},
     "output_type": "execute_result"
    }
   ],
   "source": [
    "df.count()"
   ]
  },
  {
   "cell_type": "code",
   "execution_count": 250,
   "metadata": {},
   "outputs": [],
   "source": [
    "# find the average market cap for each company, column lables MCAP_FY0 ~ MCAP_FY7\n",
    "df['avg_mcap'] = df.loc[:,'MCAP_FQ0':'MCAP_FQ31'].mean(axis=1)\n",
    "# same for ESG score\n",
    "df['avg_esg'] = df.loc[:,'ESG_FY0':'ESG_FY6'].mean(axis=1)\n",
    "# same for price\n",
    "df['avg_price'] = df.loc[:,'Price_CM0':'Price_CM135'].mean(axis=1)\n",
    "# book to market ratio\n",
    "df['avg_btm'] = df.loc[:,'BTM_FQ0':'BTM_FQ31'].mean(axis=1)"
   ]
  },
  {
   "cell_type": "code",
   "execution_count": 251,
   "metadata": {},
   "outputs": [],
   "source": [
    "# produce two dataframes, one with market cap lower than the median, one with market cap higher than the median\n",
    "df_mcap_low = df[df['avg_mcap'] < df['avg_mcap'].median()]\n",
    "df_mcap_high = df[df['avg_mcap'] >= df['avg_mcap'].median()]\n",
    "\n",
    "# produce two dataframes, one with Price / Book Value Per Share lower than the median, one with Price / Book Value Per Share higher than the median\n",
    "df_BM_low = df[df['avg_btm'] < df['avg_btm'].median()]\n",
    "df_BM_high = df[df['avg_btm'] >= df['avg_btm'].median()]\n",
    "\n",
    "# now for ESG score\n",
    "df_esg_low = df[df['avg_esg'] < df['avg_esg'].median()]\n",
    "df_esg_high = df[df['avg_esg'] >= df['avg_esg'].median()]"
   ]
  },
  {
   "cell_type": "code",
   "execution_count": 252,
   "metadata": {},
   "outputs": [
    {
     "name": "stdout",
     "output_type": "stream",
     "text": [
      "(2105, 219)\n"
     ]
    }
   ],
   "source": [
    "# check how many rows are in each dataframe\n",
    "print(df_mcap_low.shape)"
   ]
  },
  {
   "cell_type": "code",
   "execution_count": 254,
   "metadata": {},
   "outputs": [],
   "source": [
    "# find the return of each company, column lables Price_FY0 ~ Price_FY7\n",
    "# return is Price_FY6 - Price_FY0\n",
    "# for low market cap group:\n",
    "df_mcap_low['mcap_low_return'] = df_mcap_low['Price_CM135'] - df_mcap_low['Price_CM0']\n",
    "\n",
    "# for high market cap group:\n",
    "df_mcap_high['mcap_high_return'] = df_mcap_high['Price_CM135'] - df_mcap_high['Price_CM0']\n",
    "\n",
    "# for low book-to-market group:\n",
    "df_BM_low['BM_low_return'] = df_BM_low['Price_CM135'] - df_BM_low['Price_CM0']\n",
    "\n",
    "# for high book-to-market group:\n",
    "df_BM_high['BM_high_return'] = df_BM_high['Price_CM135'] - df_BM_high['Price_CM0']\n",
    "\n",
    "# for low ESG score group:\n",
    "df_esg_low['esg_low_return'] = df_esg_low['Price_CM135'] - df_esg_low['Price_CM0']\n",
    "\n",
    "# for high ESG score group:\n",
    "df_esg_high['esg_high_return'] = df_esg_high['Price_CM135'] - df_esg_high['Price_CM0']\n"
   ]
  },
  {
   "cell_type": "code",
   "execution_count": 256,
   "metadata": {},
   "outputs": [],
   "source": [
    "# calculate the returns\n",
    "# for market cap:\n",
    "# return is calculated as Price_CM135 - Price_CM0\n",
    "# for low market cap group:\n",
    "df_mcap_low['mcap_low_return'] = df_mcap_low['Price_CM135'] - df_mcap_low['Price_CM0']\n",
    "# for high market cap group:\n",
    "df_mcap_high['mcap_high_return'] = df_mcap_high['Price_CM135'] - df_mcap_high['Price_CM0']\n",
    "\n",
    "# for book-to-market:\n",
    "# return is calculated as Price_CM135 - Price_CM0\n",
    "# for low book-to-market group:\n",
    "df_BM_low['BM_low_return'] = df_BM_low['Price_CM135'] - df_BM_low['Price_CM0']\n",
    "# for high book-to-market group:\n",
    "df_BM_high['BM_high_return'] = df_BM_high['Price_CM135'] - df_BM_high['Price_CM0']\n",
    "\n",
    "# for ESG score:\n",
    "# return is calculated as Price_CM135 - Price_CM0\n",
    "# for low ESG score group:\n",
    "df_esg_low['esg_low_return'] = df_esg_low['Price_CM135'] - df_esg_low['Price_CM0']\n",
    "# for high ESG score group:\n",
    "df_esg_high['esg_high_return'] = df_esg_high['Price_CM135'] - df_esg_high['Price_CM0']\n"
   ]
  },
  {
   "cell_type": "code",
   "execution_count": null,
   "metadata": {},
   "outputs": [],
   "source": [
    "# now calculate the return spread for each group\n",
    "# for market cap:\n"
   ]
  },
  {
   "cell_type": "code",
   "execution_count": 203,
   "metadata": {},
   "outputs": [
    {
     "name": "stdout",
     "output_type": "stream",
     "text": [
      "Number of companies with a market cap above the median:  5356\n",
      "Number of companies with a market cap below the median:  5355\n"
     ]
    }
   ],
   "source": [
    "# rank the companies and find the medium\n",
    "# split the data into two groups, one with the companies that have a market cap above the median, and one with the companies that have a market cap below the median\n",
    "df_avg['Rank'] = df_avg['Mkt. Cap (M)'].rank(ascending=False)\n",
    "df_avg_low = df_avg[df_avg['Rank'] > df_avg['Rank'].median()]\n",
    "df_avg_high = df_avg[df_avg['Rank'] <= df_avg['Rank'].median()]\n",
    "\n",
    "# count the number of companies in each group\n",
    "print('Number of companies with a market cap above the median: ', len(df_avg_high))\n",
    "print('Number of companies with a market cap below the median: ', len(df_avg_low))\n"
   ]
  }
 ],
 "metadata": {
  "kernelspec": {
   "display_name": "Python 3.9.7 ('base')",
   "language": "python",
   "name": "python3"
  },
  "language_info": {
   "codemirror_mode": {
    "name": "ipython",
    "version": 3
   },
   "file_extension": ".py",
   "mimetype": "text/x-python",
   "name": "python",
   "nbconvert_exporter": "python",
   "pygments_lexer": "ipython3",
   "version": "3.9.7"
  },
  "orig_nbformat": 4,
  "vscode": {
   "interpreter": {
    "hash": "5fc46f4ca4c3e783c5efc93cd0a8383c2a91a68aeca57a29503310e8224dc9de"
   }
  }
 },
 "nbformat": 4,
 "nbformat_minor": 2
}
